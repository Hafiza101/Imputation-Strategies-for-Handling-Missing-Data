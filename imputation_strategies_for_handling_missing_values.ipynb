{
 "cells": [
  {
   "cell_type": "markdown",
   "metadata": {},
   "source": [
    "# * Imputation Strategies for Handling Missing Data:*\n",
    "### *There are various methods to impute missing values in python such as:*\n",
    "#### 1-Drop Missing Values\n",
    "#### 2-Mean Imputation\n",
    "#### 3-Median Imputation\n",
    "#### 4-Mode Imputation\n",
    "#### 5-Constant Value Imputation\n",
    "#### 6-Linear Interpolation \n",
    "#### 7- K-Nearest Neighbours (KNN) Imputation\n",
    "#### 8- Multivariate Imputation\n",
    "#### 8(i)-  Iterative Imputation 8(ii)- Multiple Imputaion by Chained Equations (MICE)\n"
   ]
  },
  {
   "cell_type": "code",
   "execution_count": 68,
   "metadata": {},
   "outputs": [
    {
     "data": {
      "text/html": [
       "<div>\n",
       "<style scoped>\n",
       "    .dataframe tbody tr th:only-of-type {\n",
       "        vertical-align: middle;\n",
       "    }\n",
       "\n",
       "    .dataframe tbody tr th {\n",
       "        vertical-align: top;\n",
       "    }\n",
       "\n",
       "    .dataframe thead th {\n",
       "        text-align: right;\n",
       "    }\n",
       "</style>\n",
       "<table border=\"1\" class=\"dataframe\">\n",
       "  <thead>\n",
       "    <tr style=\"text-align: right;\">\n",
       "      <th></th>\n",
       "      <th>survived</th>\n",
       "      <th>pclass</th>\n",
       "      <th>sex</th>\n",
       "      <th>age</th>\n",
       "      <th>sibsp</th>\n",
       "      <th>parch</th>\n",
       "      <th>fare</th>\n",
       "      <th>embarked</th>\n",
       "      <th>class</th>\n",
       "      <th>who</th>\n",
       "      <th>adult_male</th>\n",
       "      <th>deck</th>\n",
       "      <th>embark_town</th>\n",
       "      <th>alive</th>\n",
       "      <th>alone</th>\n",
       "    </tr>\n",
       "  </thead>\n",
       "  <tbody>\n",
       "    <tr>\n",
       "      <th>0</th>\n",
       "      <td>0</td>\n",
       "      <td>3</td>\n",
       "      <td>male</td>\n",
       "      <td>22.0</td>\n",
       "      <td>1</td>\n",
       "      <td>0</td>\n",
       "      <td>7.2500</td>\n",
       "      <td>S</td>\n",
       "      <td>Third</td>\n",
       "      <td>man</td>\n",
       "      <td>True</td>\n",
       "      <td>NaN</td>\n",
       "      <td>Southampton</td>\n",
       "      <td>no</td>\n",
       "      <td>False</td>\n",
       "    </tr>\n",
       "    <tr>\n",
       "      <th>1</th>\n",
       "      <td>1</td>\n",
       "      <td>1</td>\n",
       "      <td>female</td>\n",
       "      <td>38.0</td>\n",
       "      <td>1</td>\n",
       "      <td>0</td>\n",
       "      <td>71.2833</td>\n",
       "      <td>C</td>\n",
       "      <td>First</td>\n",
       "      <td>woman</td>\n",
       "      <td>False</td>\n",
       "      <td>C</td>\n",
       "      <td>Cherbourg</td>\n",
       "      <td>yes</td>\n",
       "      <td>False</td>\n",
       "    </tr>\n",
       "    <tr>\n",
       "      <th>2</th>\n",
       "      <td>1</td>\n",
       "      <td>3</td>\n",
       "      <td>female</td>\n",
       "      <td>26.0</td>\n",
       "      <td>0</td>\n",
       "      <td>0</td>\n",
       "      <td>7.9250</td>\n",
       "      <td>S</td>\n",
       "      <td>Third</td>\n",
       "      <td>woman</td>\n",
       "      <td>False</td>\n",
       "      <td>NaN</td>\n",
       "      <td>Southampton</td>\n",
       "      <td>yes</td>\n",
       "      <td>True</td>\n",
       "    </tr>\n",
       "    <tr>\n",
       "      <th>3</th>\n",
       "      <td>1</td>\n",
       "      <td>1</td>\n",
       "      <td>female</td>\n",
       "      <td>35.0</td>\n",
       "      <td>1</td>\n",
       "      <td>0</td>\n",
       "      <td>53.1000</td>\n",
       "      <td>S</td>\n",
       "      <td>First</td>\n",
       "      <td>woman</td>\n",
       "      <td>False</td>\n",
       "      <td>C</td>\n",
       "      <td>Southampton</td>\n",
       "      <td>yes</td>\n",
       "      <td>False</td>\n",
       "    </tr>\n",
       "    <tr>\n",
       "      <th>4</th>\n",
       "      <td>0</td>\n",
       "      <td>3</td>\n",
       "      <td>male</td>\n",
       "      <td>35.0</td>\n",
       "      <td>0</td>\n",
       "      <td>0</td>\n",
       "      <td>8.0500</td>\n",
       "      <td>S</td>\n",
       "      <td>Third</td>\n",
       "      <td>man</td>\n",
       "      <td>True</td>\n",
       "      <td>NaN</td>\n",
       "      <td>Southampton</td>\n",
       "      <td>no</td>\n",
       "      <td>True</td>\n",
       "    </tr>\n",
       "  </tbody>\n",
       "</table>\n",
       "</div>"
      ],
      "text/plain": [
       "   survived  pclass     sex   age  sibsp  parch     fare embarked  class  \\\n",
       "0         0       3    male  22.0      1      0   7.2500        S  Third   \n",
       "1         1       1  female  38.0      1      0  71.2833        C  First   \n",
       "2         1       3  female  26.0      0      0   7.9250        S  Third   \n",
       "3         1       1  female  35.0      1      0  53.1000        S  First   \n",
       "4         0       3    male  35.0      0      0   8.0500        S  Third   \n",
       "\n",
       "     who  adult_male deck  embark_town alive  alone  \n",
       "0    man        True  NaN  Southampton    no  False  \n",
       "1  woman       False    C    Cherbourg   yes  False  \n",
       "2  woman       False  NaN  Southampton   yes   True  \n",
       "3  woman       False    C  Southampton   yes  False  \n",
       "4    man        True  NaN  Southampton    no   True  "
      ]
     },
     "execution_count": 68,
     "metadata": {},
     "output_type": "execute_result"
    }
   ],
   "source": [
    "# 1- Drop Missing Values\n",
    "\n",
    "# import libraries and load dataset\n",
    "\n",
    "import pandas as pd\n",
    "import numpy as np\n",
    "import seaborn as sns\n",
    "import matplotlib.pyplot as plt\n",
    "df = sns.load_dataset(\"titanic\")\n",
    "df.head(5)"
   ]
  },
  {
   "cell_type": "code",
   "execution_count": 69,
   "metadata": {},
   "outputs": [
    {
     "data": {
      "text/plain": [
       "survived         0\n",
       "pclass           0\n",
       "sex              0\n",
       "age            177\n",
       "sibsp            0\n",
       "parch            0\n",
       "fare             0\n",
       "embarked         2\n",
       "class            0\n",
       "who              0\n",
       "adult_male       0\n",
       "deck           688\n",
       "embark_town      2\n",
       "alive            0\n",
       "alone            0\n",
       "dtype: int64"
      ]
     },
     "execution_count": 69,
     "metadata": {},
     "output_type": "execute_result"
    }
   ],
   "source": [
    "df.isnull().sum()"
   ]
  },
  {
   "cell_type": "code",
   "execution_count": 70,
   "metadata": {},
   "outputs": [
    {
     "data": {
      "text/plain": [
       "survived        0.000000\n",
       "pclass          0.000000\n",
       "sex             0.000000\n",
       "age            19.865320\n",
       "sibsp           0.000000\n",
       "parch           0.000000\n",
       "fare            0.000000\n",
       "embarked        0.224467\n",
       "class           0.000000\n",
       "who             0.000000\n",
       "adult_male      0.000000\n",
       "deck           77.216611\n",
       "embark_town     0.224467\n",
       "alive           0.000000\n",
       "alone           0.000000\n",
       "dtype: float64"
      ]
     },
     "execution_count": 70,
     "metadata": {},
     "output_type": "execute_result"
    }
   ],
   "source": [
    "df.isnull().sum()/len(df) *100"
   ]
  },
  {
   "cell_type": "code",
   "execution_count": 71,
   "metadata": {},
   "outputs": [
    {
     "data": {
      "text/plain": [
       "Index(['survived', 'pclass', 'sex', 'age', 'sibsp', 'parch', 'fare',\n",
       "       'embarked', 'class', 'who', 'adult_male', 'deck', 'embark_town',\n",
       "       'alive', 'alone'],\n",
       "      dtype='object')"
      ]
     },
     "execution_count": 71,
     "metadata": {},
     "output_type": "execute_result"
    }
   ],
   "source": [
    "df.columns"
   ]
  },
  {
   "cell_type": "code",
   "execution_count": 72,
   "metadata": {},
   "outputs": [],
   "source": [
    "df.drop(columns='deck', inplace=True)\n"
   ]
  },
  {
   "cell_type": "code",
   "execution_count": 73,
   "metadata": {},
   "outputs": [
    {
     "data": {
      "text/plain": [
       "Index(['survived', 'pclass', 'sex', 'age', 'sibsp', 'parch', 'fare',\n",
       "       'embarked', 'class', 'who', 'adult_male', 'embark_town', 'alive',\n",
       "       'alone'],\n",
       "      dtype='object')"
      ]
     },
     "execution_count": 73,
     "metadata": {},
     "output_type": "execute_result"
    }
   ],
   "source": [
    "df.columns"
   ]
  },
  {
   "cell_type": "code",
   "execution_count": 74,
   "metadata": {},
   "outputs": [
    {
     "data": {
      "text/plain": [
       "<Axes: ylabel='age'>"
      ]
     },
     "execution_count": 74,
     "metadata": {},
     "output_type": "execute_result"
    },
    {
     "data": {
      "image/png": "[encoded data removed]",
      "text/plain": [
       "<Figure size 640x480 with 1 Axes>"
      ]
     },
     "metadata": {},
     "output_type": "display_data"
    }
   ],
   "source": [
    "sns.boxplot(data=df, y='age')"
   ]
  },
  {
   "cell_type": "code",
   "execution_count": 75,
   "metadata": {},
   "outputs": [
    {
     "data": {
      "text/plain": [
       "<Axes: >"
      ]
     },
     "execution_count": 75,
     "metadata": {},
     "output_type": "execute_result"
    },
    {
     "data": {
      "image/png": "[encoded data removed]",
      "text/plain": [
       "<Figure size 640x480 with 2 Axes>"
      ]
     },
     "metadata": {},
     "output_type": "display_data"
    }
   ],
   "source": [
    "# visualize the nan value in Heatmap\n",
    "\n",
    "sns.heatmap(df.isnull(), yticklabels=False, cbar=True, cmap='viridis')\n",
    "\n"
   ]
  },
  {
   "cell_type": "markdown",
   "metadata": {},
   "source": [
    "#### 2-Mean Imputation\n",
    "#### 3-Median Imputation\n",
    "#### 4-Mode Imputation"
   ]
  },
  {
   "cell_type": "code",
   "execution_count": 78,
   "metadata": {},
   "outputs": [
    {
     "name": "stdout",
     "output_type": "stream",
     "text": [
      "Requirement already satisfied: scikit-learn in c:\\users\\64284\\miniconda3\\envs\\ml_env\\lib\\site-packages (1.3.0)\n",
      "Requirement already satisfied: numpy>=1.17.3 in c:\\users\\64284\\miniconda3\\envs\\ml_env\\lib\\site-packages (from scikit-learn) (1.25.2)\n",
      "Requirement already satisfied: scipy>=1.5.0 in c:\\users\\64284\\miniconda3\\envs\\ml_env\\lib\\site-packages (from scikit-learn) (1.11.1)\n",
      "Requirement already satisfied: joblib>=1.1.1 in c:\\users\\64284\\miniconda3\\envs\\ml_env\\lib\\site-packages (from scikit-learn) (1.3.1)\n",
      "Requirement already satisfied: threadpoolctl>=2.0.0 in c:\\users\\64284\\miniconda3\\envs\\ml_env\\lib\\site-packages (from scikit-learn) (3.2.0)\n"
     ]
    }
   ],
   "source": [
    "# Mean,Median and Mode Imputation using SciKit learn\n",
    "\n",
    "!pip install scikit-learn "
   ]
  },
  {
   "cell_type": "code",
   "execution_count": 79,
   "metadata": {},
   "outputs": [],
   "source": [
    "# Import libraries\n",
    "\n",
    "import pandas as pd\n",
    "import seaborn as sns\n",
    "from sklearn.impute import SimpleImputer "
   ]
  },
  {
   "cell_type": "code",
   "execution_count": 80,
   "metadata": {},
   "outputs": [
    {
     "name": "stdout",
     "output_type": "stream",
     "text": [
      "Missing Values in the data:\n",
      " age     177\n",
      "fare      0\n",
      "dtype: int64\n"
     ]
    }
   ],
   "source": [
    "# Load the Titanic dataset\n",
    "\n",
    "titanic_data = sns.load_dataset(\"titanic\")\n",
    "\n",
    "# Select the relevant Columns containing missing values\n",
    "\n",
    "columns_with_nulls = [\"age\", \"fare\"]\n",
    "\n",
    "# Create a new DataFrame with the selected columns\n",
    "data = titanic_data[columns_with_nulls].copy()\n",
    "\n",
    "# Print the number of missing values in the selected columns\n",
    "print(\"Missing Values in the data:\\n\", data.isnull().sum())"
   ]
  },
  {
   "cell_type": "code",
   "execution_count": 82,
   "metadata": {},
   "outputs": [],
   "source": [
    "# Imputation of Missing Value wih mean strategy\n",
    "mean_imputer = SimpleImputer(strategy= 'mean')\n",
    "mean_imputed_data = mean_imputer.fit_transform(data)"
   ]
  },
  {
   "cell_type": "code",
   "execution_count": 83,
   "metadata": {},
   "outputs": [],
   "source": [
    "# Imputation of Missing Value with median Strategy\n",
    "median_imputer = SimpleImputer(strategy= 'median')\n",
    "median_imputed_data = median_imputer.fit_transform(data)"
   ]
  },
  {
   "cell_type": "code",
   "execution_count": 89,
   "metadata": {},
   "outputs": [],
   "source": [
    "\n",
    "# Imputation of Missing Value with mode Strategy\n",
    "mode_frequent_imputer = SimpleImputer(strategy= 'most_frequent')\n",
    "most_frequent_imputed_data = mode_frequent_imputer.fit_transform(data)\n"
   ]
  },
  {
   "cell_type": "code",
   "execution_count": 90,
   "metadata": {},
   "outputs": [
    {
     "name": "stdout",
     "output_type": "stream",
     "text": [
      "====================================================================================\n",
      "\n",
      "Missing values in the imputed_data:\n",
      " survived                0\n",
      "pclass                  0\n",
      "sex                     0\n",
      "age                   177\n",
      "sibsp                   0\n",
      "parch                   0\n",
      "fare                    0\n",
      "embarked                2\n",
      "class                   0\n",
      "who                     0\n",
      "adult_male              0\n",
      "deck                  688\n",
      "embark_town             2\n",
      "alive                   0\n",
      "alone                   0\n",
      "age_mean                0\n",
      "fare_mean               0\n",
      "age_median              0\n",
      "fare_median             0\n",
      "age_most_frequent       0\n",
      "fare_most_frequent      0\n",
      "dtype: int64\n",
      "   survived  pclass     sex   age  sibsp  parch     fare embarked  class  \\\n",
      "0         0       3    male  22.0      1      0   7.2500        S  Third   \n",
      "1         1       1  female  38.0      1      0  71.2833        C  First   \n",
      "2         1       3  female  26.0      0      0   7.9250        S  Third   \n",
      "3         1       1  female  35.0      1      0  53.1000        S  First   \n",
      "4         0       3    male  35.0      0      0   8.0500        S  Third   \n",
      "\n",
      "     who  ...  deck  embark_town alive  alone  age_mean  fare_mean  \\\n",
      "0    man  ...   NaN  Southampton    no  False      22.0     7.2500   \n",
      "1  woman  ...     C    Cherbourg   yes  False      38.0    71.2833   \n",
      "2  woman  ...   NaN  Southampton   yes   True      26.0     7.9250   \n",
      "3  woman  ...     C  Southampton   yes  False      35.0    53.1000   \n",
      "4    man  ...   NaN  Southampton    no   True      35.0     8.0500   \n",
      "\n",
      "   age_median  fare_median  age_most_frequent  fare_most_frequent  \n",
      "0        22.0       7.2500               22.0              7.2500  \n",
      "1        38.0      71.2833               38.0             71.2833  \n",
      "2        26.0       7.9250               26.0              7.9250  \n",
      "3        35.0      53.1000               35.0             53.1000  \n",
      "4        35.0       8.0500               35.0              8.0500  \n",
      "\n",
      "[5 rows x 21 columns]\n"
     ]
    }
   ],
   "source": [
    "# Replace null Values in the original DataFrame with new Columns\n",
    "\n",
    "# Run the cells that define mean_imputed_data, median_imputed_data, and mode_imputed_data first\n",
    "titanic_data[['age_mean', 'fare_mean']] = mean_imputed_data\n",
    "titanic_data[['age_median', 'fare_median']] = median_imputed_data\n",
    "titanic_data[['age_most_frequent', 'fare_most_frequent']] = most_frequent_imputed_data\n",
    "\n",
    "# Print a Separation Line\n",
    "\n",
    "print(\"====================================================================================\\n\")\n",
    "\n",
    "# print the missing values\n",
    "\n",
    "print(\"Missing values in the imputed_data:\\n\", titanic_data.isnull().sum()) \n",
    "\n",
    "# print the modified DataFrame\n",
    "print(titanic_data.head())\n"
   ]
  },
  {
   "cell_type": "markdown",
   "metadata": {},
   "source": [
    "# 5-Constant Value Imputation\n",
    "Constant value imputation is a basic technique used to fill missing values in a dataset by replacing them with a constant value."
   ]
  },
  {
   "cell_type": "code",
   "execution_count": 93,
   "metadata": {},
   "outputs": [
    {
     "name": "stdout",
     "output_type": "stream",
     "text": [
      "   survived  pclass     sex   age  sibsp  parch     fare embarked  class  \\\n",
      "0         0       3    male  22.0      1      0   7.2500        S  Third   \n",
      "1         1       1  female  38.0      1      0  71.2833        C  First   \n",
      "2         1       3  female  26.0      0      0   7.9250        S  Third   \n",
      "3         1       1  female  35.0      1      0  53.1000        S  First   \n",
      "4         0       3    male  35.0      0      0   8.0500        S  Third   \n",
      "\n",
      "     who  adult_male deck  embark_town alive  alone  \n",
      "0    man        True  NaN  Southampton    no  False  \n",
      "1  woman       False    C    Cherbourg   yes  False  \n",
      "2  woman       False  NaN  Southampton   yes   True  \n",
      "3  woman       False    C  Southampton   yes  False  \n",
      "4    man        True  NaN  Southampton    no   True  \n"
     ]
    }
   ],
   "source": [
    "\n",
    "\n",
    "# Load the Titanic dataset\n",
    "df = sns.load_dataset(\"titanic\")\n",
    "\n",
    "# Replace missing values in the 'Age' column with a constant value (e.g., -1)\n",
    "constant_value = -1\n",
    "df['age'] = df['age'].fillna(constant_value)\n",
    "\n",
    "# Replace missing values in the 'Age' column with a constant value (e.g., 'Unknown')\n",
    "constant_value = 'Unknown'\n",
    "df['age'] = df['age'].fillna(constant_value)\n",
    "\n",
    "# Print the modified dataset\n",
    "print(df.head())\n"
   ]
  },
  {
   "cell_type": "markdown",
   "metadata": {},
   "source": [
    "# 6-Linear Interpolation\n",
    "Linear interpolation is a method of filling in missing values by estimating them based on the values of neighboring data points."
   ]
  },
  {
   "cell_type": "code",
   "execution_count": 96,
   "metadata": {},
   "outputs": [
    {
     "name": "stdout",
     "output_type": "stream",
     "text": [
      "     survived  pclass   sex    age  sibsp  parch    fare embarked  class  who  \\\n",
      "0           0       3  male  22.00      1      0  7.2500        S  Third  man   \n",
      "519         0       3  male  32.00      0      0  7.8958        S  Third  man   \n",
      "521         0       3  male  22.00      0      0  7.8958        S  Third  man   \n",
      "522         0       3  male  33.00      0      0  7.2250        C  Third  man   \n",
      "524         0       3  male  42.25      0      0  7.2292        C  Third  man   \n",
      "\n",
      "     adult_male deck  embark_town alive  alone  \n",
      "0          True  NaN  Southampton    no  False  \n",
      "519        True  NaN  Southampton    no   True  \n",
      "521        True  NaN  Southampton    no   True  \n",
      "522        True  NaN    Cherbourg    no   True  \n",
      "524        True  NaN    Cherbourg    no   True  \n"
     ]
    }
   ],
   "source": [
    "\n",
    "# Load the Titanic dataset\n",
    "df = sns.load_dataset('titanic')\n",
    "\n",
    "# Sort the dataset by 'PassengerId' to ensure proper order\n",
    "df.sort_values(by='survived', inplace=True)\n",
    "\n",
    "# Apply linear interpolation to the 'Age' column\n",
    "df['age'] = titanic_data['age'].interpolate()\n",
    "\n",
    "# Print the modified dataset\n",
    "print(df.head())\n"
   ]
  },
  {
   "cell_type": "markdown",
   "metadata": {},
   "source": [
    "# 7- KNN Imputation"
   ]
  },
  {
   "cell_type": "code",
   "execution_count": 97,
   "metadata": {},
   "outputs": [],
   "source": [
    "# import libraries\n",
    "import pandas as pd\n",
    "import seaborn as sns\n",
    "from sklearn.impute import KNNImputer"
   ]
  },
  {
   "cell_type": "code",
   "execution_count": 98,
   "metadata": {},
   "outputs": [
    {
     "name": "stdout",
     "output_type": "stream",
     "text": [
      "====================================================================================\n",
      "\n",
      "Missing values in the imputed_data:\n",
      " survived         0\n",
      "pclass           0\n",
      "sex              0\n",
      "age            177\n",
      "sibsp            0\n",
      "parch            0\n",
      "fare             0\n",
      "embarked         2\n",
      "class            0\n",
      "who              0\n",
      "adult_male       0\n",
      "deck           688\n",
      "embark_town      2\n",
      "alive            0\n",
      "alone            0\n",
      "age_knn          0\n",
      "fare_knn         0\n",
      "dtype: int64\n"
     ]
    }
   ],
   "source": [
    "# Load the Titanic dataset\n",
    "\n",
    "titanic_data = sns.load_dataset(\"titanic\")\n",
    "\n",
    "# Select the relevant Columns containing missing values\n",
    "\n",
    "columns_with_nulls = [\"age\", \"fare\"]\n",
    "\n",
    "# Create a new DataFrame with the selected columns\n",
    "data = titanic_data[columns_with_nulls].copy()\n",
    "\n",
    "#KNN Imputer\n",
    "\n",
    "knn_imputer = KNNImputer(n_neighbors=5)\n",
    "\n",
    "# Impute missing values using KNNImputer\n",
    "knn_imputed_data = knn_imputer.fit_transform(data)\n",
    "\n",
    "# Replace null Values in the original DataFrame with new Columns\n",
    "\n",
    "# Run the null values in the original DataFrame with new columns\n",
    "titanic_data[['age_knn', 'fare_knn']] = knn_imputed_data\n",
    "titanic_data[['age_knn', 'fare_knn']] = knn_imputed_data\n",
    "\n",
    "# Print a Separation Line\n",
    "\n",
    "print(\"====================================================================================\\n\")\n",
    "\n",
    "# print the missing values\n",
    "\n",
    "print(\"Missing values in the imputed_data:\\n\", titanic_data.isnull().sum())"
   ]
  },
  {
   "cell_type": "markdown",
   "metadata": {},
   "source": [
    "# 8-Multivariate Imputation\n",
    "Multivariate imputation is an advanced technique used to fill in missing values in a dataset by considering relationships and patterns among multiple variables. Unlike univariate imputation methods that only consider one variable at a time, multivariate imputation takes into account the interactions and dependencies between different variables to make more accurate estimates of missing values.\n",
    "Common libraries in Python for performing multivariate imputation include scikit-learn's (8-(i))- IterativeImputer and (8-(ii))- the mice (Multivariate Imputation by Chained Equations) package."
   ]
  },
  {
   "cell_type": "code",
   "execution_count": 99,
   "metadata": {},
   "outputs": [],
   "source": [
    "# Iterative Imputation\n",
    "# import libraries\n",
    "import pandas as pd\n",
    "import seaborn as sns\n",
    "from sklearn.experimental import enable_iterative_imputer\n",
    "from sklearn.impute import IterativeImputer"
   ]
  },
  {
   "cell_type": "code",
   "execution_count": 100,
   "metadata": {},
   "outputs": [
    {
     "name": "stdout",
     "output_type": "stream",
     "text": [
      "====================================================================================\n",
      "\n",
      "Missing values in the imputed_data:\n",
      " survived            0\n",
      "pclass              0\n",
      "sex                 0\n",
      "age               177\n",
      "sibsp               0\n",
      "parch               0\n",
      "fare                0\n",
      "embarked            2\n",
      "class               0\n",
      "who                 0\n",
      "adult_male          0\n",
      "deck              688\n",
      "embark_town         2\n",
      "alive               0\n",
      "alone               0\n",
      "age_iterative       0\n",
      "fare_iterative      0\n",
      "dtype: int64\n"
     ]
    }
   ],
   "source": [
    "# Load the Titanic dataset\n",
    "\n",
    "titanic_data = sns.load_dataset(\"titanic\")\n",
    "\n",
    "# Select the relevant Columns containing missing values\n",
    "\n",
    "columns_with_nulls = [\"age\", \"fare\"]\n",
    "\n",
    "# Create a new DataFrame with the selected columns\n",
    "data = titanic_data[columns_with_nulls].copy()\n",
    "\n",
    "# Iterative Imputer\n",
    "\n",
    "Iterative_Imputer = IterativeImputer()\n",
    "Iterative_Imputed_data = Iterative_Imputer.fit_transform(data)\n",
    "\n",
    "# Replace null Values in the original DataFrame with new Columns\n",
    "\n",
    "titanic_data[['age_iterative', 'fare_iterative']] = Iterative_Imputed_data\n",
    "\n",
    "# Print a Separation Line\n",
    "\n",
    "print(\"====================================================================================\\n\")\n",
    "\n",
    "# print the missing values\n",
    "\n",
    "print(\"Missing values in the imputed_data:\\n\", titanic_data.isnull().sum())\n",
    "\n",
    "\n",
    "\n"
   ]
  },
  {
   "cell_type": "markdown",
   "metadata": {},
   "source": [
    "# 8-(ii) MICE (Multivariate Imputation by Chained Equations)\n",
    " \"Multivariate Imputation by Chained Equations,\" is a sophisticated imputation method used to fill in missing values in a dataset. It's based on the idea of iteratively estimating missing values in a multivariate dataset by considering the relationships among variables. MICE assumes that variables in the dataset are related to each other and uses this interdependency to impute missing values more accurately."
   ]
  },
  {
   "cell_type": "code",
   "execution_count": 101,
   "metadata": {},
   "outputs": [
    {
     "name": "stdout",
     "output_type": "stream",
     "text": [
      "Collecting fancyimpute\n",
      "  Downloading fancyimpute-0.7.0.tar.gz (25 kB)\n",
      "  Preparing metadata (setup.py): started\n",
      "  Preparing metadata (setup.py): finished with status 'done'\n",
      "Collecting knnimpute>=0.1.0 (from fancyimpute)\n",
      "  Downloading knnimpute-0.1.0.tar.gz (8.3 kB)\n",
      "  Preparing metadata (setup.py): started\n",
      "  Preparing metadata (setup.py): finished with status 'done'\n",
      "Requirement already satisfied: scikit-learn>=0.24.2 in c:\\users\\64284\\miniconda3\\envs\\ml_env\\lib\\site-packages (from fancyimpute) (1.3.0)\n",
      "Collecting cvxpy (from fancyimpute)\n",
      "  Obtaining dependency information for cvxpy from https://files.pythonhosted.org/packages/c2/8d/57a601819a720b4999017ad614f16fa87a0b8a53d0d28ede273d390f30e9/cvxpy-1.3.2-cp311-cp311-win_amd64.whl.metadata\n",
      "  Downloading cvxpy-1.3.2-cp311-cp311-win_amd64.whl.metadata (8.9 kB)\n",
      "Collecting cvxopt (from fancyimpute)\n",
      "  Downloading cvxopt-1.3.1-cp311-cp311-win_amd64.whl (12.8 MB)\n",
      "     ---------------------------------------- 0.0/12.8 MB ? eta -:--:--\n",
      "     ---------------------------------------- 0.1/12.8 MB 2.9 MB/s eta 0:00:05\n",
      "     - -------------------------------------- 0.5/12.8 MB 4.8 MB/s eta 0:00:03\n",
      "     -- ------------------------------------- 0.8/12.8 MB 5.8 MB/s eta 0:00:03\n",
      "     --- ------------------------------------ 1.0/12.8 MB 6.0 MB/s eta 0:00:02\n",
      "     --- ------------------------------------ 1.0/12.8 MB 6.0 MB/s eta 0:00:02\n",
      "     --- ------------------------------------ 1.0/12.8 MB 6.0 MB/s eta 0:00:02\n",
      "     ---- ----------------------------------- 1.4/12.8 MB 4.1 MB/s eta 0:00:03\n",
      "     ----- ---------------------------------- 1.6/12.8 MB 4.3 MB/s eta 0:00:03\n",
      "     ------ --------------------------------- 2.0/12.8 MB 4.6 MB/s eta 0:00:03\n",
      "     ------ --------------------------------- 2.2/12.8 MB 4.9 MB/s eta 0:00:03\n",
      "     ------- -------------------------------- 2.6/12.8 MB 5.1 MB/s eta 0:00:03\n",
      "     -------- ------------------------------- 2.8/12.8 MB 5.0 MB/s eta 0:00:02\n",
      "     --------- ------------------------------ 3.2/12.8 MB 5.4 MB/s eta 0:00:02\n",
      "     ---------- ----------------------------- 3.5/12.8 MB 5.4 MB/s eta 0:00:02\n",
      "     ----------- ---------------------------- 3.8/12.8 MB 5.4 MB/s eta 0:00:02\n",
      "     ------------ --------------------------- 4.1/12.8 MB 5.6 MB/s eta 0:00:02\n",
      "     ------------- -------------------------- 4.4/12.8 MB 5.6 MB/s eta 0:00:02\n",
      "     ------------- -------------------------- 4.5/12.8 MB 5.6 MB/s eta 0:00:02\n",
      "     -------------- ------------------------- 4.8/12.8 MB 5.4 MB/s eta 0:00:02\n",
      "     --------------- ------------------------ 5.0/12.8 MB 5.4 MB/s eta 0:00:02\n",
      "     ---------------- ----------------------- 5.3/12.8 MB 5.4 MB/s eta 0:00:02\n",
      "     ----------------- ---------------------- 5.5/12.8 MB 5.4 MB/s eta 0:00:02\n",
      "     ------------------ --------------------- 5.8/12.8 MB 5.4 MB/s eta 0:00:02\n",
      "     ------------------- -------------------- 6.1/12.8 MB 5.5 MB/s eta 0:00:02\n",
      "     ------------------- -------------------- 6.3/12.8 MB 5.5 MB/s eta 0:00:02\n",
      "     -------------------- ------------------- 6.6/12.8 MB 5.5 MB/s eta 0:00:02\n",
      "     --------------------- ------------------ 7.0/12.8 MB 5.6 MB/s eta 0:00:02\n",
      "     ---------------------- ----------------- 7.1/12.8 MB 5.5 MB/s eta 0:00:02\n",
      "     ----------------------- ---------------- 7.4/12.8 MB 5.5 MB/s eta 0:00:01\n",
      "     ----------------------- ---------------- 7.5/12.8 MB 5.4 MB/s eta 0:00:01\n",
      "     ------------------------ --------------- 7.8/12.8 MB 5.4 MB/s eta 0:00:01\n",
      "     ------------------------ --------------- 8.0/12.8 MB 5.4 MB/s eta 0:00:01\n",
      "     ------------------------- -------------- 8.2/12.8 MB 5.3 MB/s eta 0:00:01\n",
      "     -------------------------- ------------- 8.5/12.8 MB 5.4 MB/s eta 0:00:01\n",
      "     -------------------------- ------------- 8.7/12.8 MB 5.3 MB/s eta 0:00:01\n",
      "     --------------------------- ------------ 9.0/12.8 MB 5.4 MB/s eta 0:00:01\n",
      "     ---------------------------- ----------- 9.2/12.8 MB 5.4 MB/s eta 0:00:01\n",
      "     ----------------------------- ---------- 9.4/12.8 MB 5.3 MB/s eta 0:00:01\n",
      "     ------------------------------ --------- 9.7/12.8 MB 5.3 MB/s eta 0:00:01\n",
      "     ------------------------------- -------- 10.0/12.8 MB 5.4 MB/s eta 0:00:01\n",
      "     ------------------------------- -------- 10.2/12.8 MB 5.3 MB/s eta 0:00:01\n",
      "     -------------------------------- ------- 10.5/12.8 MB 5.5 MB/s eta 0:00:01\n",
      "     --------------------------------- ------ 10.9/12.8 MB 5.5 MB/s eta 0:00:01\n",
      "     ----------------------------------- ---- 11.2/12.8 MB 5.5 MB/s eta 0:00:01\n",
      "     ------------------------------------ --- 11.6/12.8 MB 5.8 MB/s eta 0:00:01\n",
      "     ------------------------------------- -- 11.9/12.8 MB 5.8 MB/s eta 0:00:01\n",
      "     -------------------------------------- - 12.3/12.8 MB 5.8 MB/s eta 0:00:01\n",
      "     ---------------------------------------  12.6/12.8 MB 5.8 MB/s eta 0:00:01\n",
      "     ---------------------------------------  12.8/12.8 MB 5.8 MB/s eta 0:00:01\n",
      "     ---------------------------------------  12.8/12.8 MB 5.8 MB/s eta 0:00:01\n",
      "     ---------------------------------------- 12.8/12.8 MB 5.6 MB/s eta 0:00:00\n",
      "Collecting pytest (from fancyimpute)\n",
      "  Obtaining dependency information for pytest from https://files.pythonhosted.org/packages/33/b2/741130cbcf2bbfa852ed95a60dc311c9e232c7ed25bac3d9b8880a8df4ae/pytest-7.4.0-py3-none-any.whl.metadata\n",
      "  Downloading pytest-7.4.0-py3-none-any.whl.metadata (8.0 kB)\n",
      "Collecting nose (from fancyimpute)\n",
      "  Downloading nose-1.3.7-py3-none-any.whl (154 kB)\n",
      "     ---------------------------------------- 0.0/154.7 kB ? eta -:--:--\n",
      "     -------------------------------------- 154.7/154.7 kB 9.6 MB/s eta 0:00:00\n",
      "Requirement already satisfied: six in c:\\users\\64284\\miniconda3\\envs\\ml_env\\lib\\site-packages (from knnimpute>=0.1.0->fancyimpute) (1.16.0)\n",
      "Requirement already satisfied: numpy>=1.10 in c:\\users\\64284\\miniconda3\\envs\\ml_env\\lib\\site-packages (from knnimpute>=0.1.0->fancyimpute) (1.25.2)\n",
      "Requirement already satisfied: scipy>=1.5.0 in c:\\users\\64284\\miniconda3\\envs\\ml_env\\lib\\site-packages (from scikit-learn>=0.24.2->fancyimpute) (1.11.1)\n",
      "Requirement already satisfied: joblib>=1.1.1 in c:\\users\\64284\\miniconda3\\envs\\ml_env\\lib\\site-packages (from scikit-learn>=0.24.2->fancyimpute) (1.3.1)\n",
      "Requirement already satisfied: threadpoolctl>=2.0.0 in c:\\users\\64284\\miniconda3\\envs\\ml_env\\lib\\site-packages (from scikit-learn>=0.24.2->fancyimpute) (3.2.0)\n",
      "Collecting osqp>=0.4.1 (from cvxpy->fancyimpute)\n",
      "  Obtaining dependency information for osqp>=0.4.1 from https://files.pythonhosted.org/packages/23/46/232041be3d85624ec4c20b3bdb8bd4bfb6640851901db155917e0c412aef/osqp-0.6.3-cp311-cp311-win_amd64.whl.metadata\n",
      "  Downloading osqp-0.6.3-cp311-cp311-win_amd64.whl.metadata (1.8 kB)\n",
      "Collecting ecos>=2 (from cvxpy->fancyimpute)\n",
      "  Downloading ecos-2.0.12-cp311-cp311-win_amd64.whl (72 kB)\n",
      "     ---------------------------------------- 0.0/72.0 kB ? eta -:--:--\n",
      "     ---------------------------------------- 72.0/72.0 kB 4.1 MB/s eta 0:00:00\n",
      "Collecting scs>=1.1.6 (from cvxpy->fancyimpute)\n",
      "  Downloading scs-3.2.3-cp311-cp311-win_amd64.whl (8.2 MB)\n",
      "     ---------------------------------------- 0.0/8.2 MB ? eta -:--:--\n",
      "     - -------------------------------------- 0.3/8.2 MB 6.5 MB/s eta 0:00:02\n",
      "     -- ------------------------------------- 0.6/8.2 MB 5.8 MB/s eta 0:00:02\n",
      "     ---- ----------------------------------- 0.8/8.2 MB 5.9 MB/s eta 0:00:02\n",
      "     ----- ---------------------------------- 1.1/8.2 MB 5.6 MB/s eta 0:00:02\n",
      "     ------ --------------------------------- 1.3/8.2 MB 5.6 MB/s eta 0:00:02\n",
      "     ------- -------------------------------- 1.6/8.2 MB 5.5 MB/s eta 0:00:02\n",
      "     -------- ------------------------------- 1.8/8.2 MB 5.5 MB/s eta 0:00:02\n",
      "     ---------- ----------------------------- 2.1/8.2 MB 5.5 MB/s eta 0:00:02\n",
      "     ----------- ---------------------------- 2.3/8.2 MB 5.5 MB/s eta 0:00:02\n",
      "     ------------ --------------------------- 2.6/8.2 MB 5.4 MB/s eta 0:00:02\n",
      "     ------------- -------------------------- 2.8/8.2 MB 5.3 MB/s eta 0:00:02\n",
      "     --------------- ------------------------ 3.1/8.2 MB 5.5 MB/s eta 0:00:01\n",
      "     ---------------- ----------------------- 3.5/8.2 MB 5.7 MB/s eta 0:00:01\n",
      "     ------------------ --------------------- 3.9/8.2 MB 5.9 MB/s eta 0:00:01\n",
      "     -------------------- ------------------- 4.3/8.2 MB 6.1 MB/s eta 0:00:01\n",
      "     ---------------------- ----------------- 4.7/8.2 MB 6.4 MB/s eta 0:00:01\n",
      "     ------------------------ --------------- 5.0/8.2 MB 6.4 MB/s eta 0:00:01\n",
      "     ------------------------- -------------- 5.3/8.2 MB 6.3 MB/s eta 0:00:01\n",
      "     --------------------------- ------------ 5.6/8.2 MB 6.4 MB/s eta 0:00:01\n",
      "     ---------------------------- ----------- 5.9/8.2 MB 6.4 MB/s eta 0:00:01\n",
      "     ------------------------------ --------- 6.3/8.2 MB 6.5 MB/s eta 0:00:01\n",
      "     ------------------------------- -------- 6.5/8.2 MB 6.3 MB/s eta 0:00:01\n",
      "     --------------------------------- ------ 6.9/8.2 MB 6.4 MB/s eta 0:00:01\n",
      "     ---------------------------------- ----- 7.1/8.2 MB 6.3 MB/s eta 0:00:01\n",
      "     ------------------------------------ --- 7.4/8.2 MB 6.4 MB/s eta 0:00:01\n",
      "     ------------------------------------- -- 7.7/8.2 MB 6.3 MB/s eta 0:00:01\n",
      "     ---------------------------------------  8.1/8.2 MB 6.4 MB/s eta 0:00:01\n",
      "     ---------------------------------------  8.2/8.2 MB 6.4 MB/s eta 0:00:01\n",
      "     ---------------------------------------- 8.2/8.2 MB 6.1 MB/s eta 0:00:00\n",
      "Requirement already satisfied: setuptools>65.5.1 in c:\\users\\64284\\miniconda3\\envs\\ml_env\\lib\\site-packages (from cvxpy->fancyimpute) (68.0.0)\n",
      "Collecting iniconfig (from pytest->fancyimpute)\n",
      "  Downloading iniconfig-2.0.0-py3-none-any.whl (5.9 kB)\n",
      "Requirement already satisfied: packaging in c:\\users\\64284\\miniconda3\\envs\\ml_env\\lib\\site-packages (from pytest->fancyimpute) (23.1)\n",
      "Collecting pluggy<2.0,>=0.12 (from pytest->fancyimpute)\n",
      "  Obtaining dependency information for pluggy<2.0,>=0.12 from https://files.pythonhosted.org/packages/51/32/4a79112b8b87b21450b066e102d6608907f4c885ed7b04c3fdb085d4d6ae/pluggy-1.2.0-py3-none-any.whl.metadata\n",
      "  Downloading pluggy-1.2.0-py3-none-any.whl.metadata (4.4 kB)\n",
      "Requirement already satisfied: colorama in c:\\users\\64284\\miniconda3\\envs\\ml_env\\lib\\site-packages (from pytest->fancyimpute) (0.4.6)\n",
      "Collecting qdldl (from osqp>=0.4.1->cvxpy->fancyimpute)\n",
      "  Obtaining dependency information for qdldl from https://files.pythonhosted.org/packages/f3/0c/972bd00b80aefc57c9a25ca47f802e315ce054fe72cd74d95af6c0f5b3f0/qdldl-0.1.7.post0-cp311-cp311-win_amd64.whl.metadata\n",
      "  Downloading qdldl-0.1.7.post0-cp311-cp311-win_amd64.whl.metadata (1.8 kB)\n",
      "Downloading cvxpy-1.3.2-cp311-cp311-win_amd64.whl (892 kB)\n",
      "   ---------------------------------------- 0.0/892.6 kB ? eta -:--:--\n",
      "   ---------------- ---------------------- 368.6/892.6 kB 11.6 MB/s eta 0:00:01\n",
      "   ---------------------------------------  870.4/892.6 kB 7.8 MB/s eta 0:00:01\n",
      "   ---------------------------------------- 892.6/892.6 kB 7.1 MB/s eta 0:00:00\n",
      "Downloading pytest-7.4.0-py3-none-any.whl (323 kB)\n",
      "   ---------------------------------------- 0.0/323.6 kB ? eta -:--:--\n",
      "   ---------------------------------------  317.4/323.6 kB 6.5 MB/s eta 0:00:01\n",
      "   ---------------------------------------- 323.6/323.6 kB 5.1 MB/s eta 0:00:00\n",
      "Downloading osqp-0.6.3-cp311-cp311-win_amd64.whl (292 kB)\n",
      "   ---------------------------------------- 0.0/293.0 kB ? eta -:--:--\n",
      "   ---------------------------------------- 293.0/293.0 kB 9.1 MB/s eta 0:00:00\n",
      "Downloading pluggy-1.2.0-py3-none-any.whl (17 kB)\n",
      "Downloading qdldl-0.1.7.post0-cp311-cp311-win_amd64.whl (85 kB)\n",
      "   ---------------------------------------- 0.0/85.1 kB ? eta -:--:--\n",
      "   ---------------------------------------- 85.1/85.1 kB ? eta 0:00:00\n",
      "Building wheels for collected packages: fancyimpute, knnimpute\n",
      "  Building wheel for fancyimpute (setup.py): started\n",
      "  Building wheel for fancyimpute (setup.py): finished with status 'done'\n",
      "  Created wheel for fancyimpute: filename=fancyimpute-0.7.0-py3-none-any.whl size=29908 sha256=205a9d3c72bad3d449d7f4ef9f3bdd8e2a32cc6ae919d11bfb3248b98d51f750\n",
      "  Stored in directory: c:\\users\\64284\\appdata\\local\\pip\\cache\\wheels\\1a\\f3\\a1\\f7f10b5ae2c2459398762a3fcf4ac18c325311c7e3163d5a15\n",
      "  Building wheel for knnimpute (setup.py): started\n",
      "  Building wheel for knnimpute (setup.py): finished with status 'done'\n",
      "  Created wheel for knnimpute: filename=knnimpute-0.1.0-py3-none-any.whl size=11344 sha256=99e6597aa07b1c708f7d34a6dc50d02b682918cfeeb2a925233170b06edeef83\n",
      "  Stored in directory: c:\\users\\64284\\appdata\\local\\pip\\cache\\wheels\\ea\\e8\\e0\\79872972161e54486517ae507f94b2c7cea27fb7ef793bd415\n",
      "Successfully built fancyimpute knnimpute\n",
      "Installing collected packages: nose, pluggy, knnimpute, iniconfig, cvxopt, scs, qdldl, pytest, ecos, osqp, cvxpy, fancyimpute\n",
      "Successfully installed cvxopt-1.3.1 cvxpy-1.3.2 ecos-2.0.12 fancyimpute-0.7.0 iniconfig-2.0.0 knnimpute-0.1.0 nose-1.3.7 osqp-0.6.3 pluggy-1.2.0 pytest-7.4.0 qdldl-0.1.7.post0 scs-3.2.3\n",
      "Note: you may need to restart the kernel to use updated packages.\n"
     ]
    }
   ],
   "source": [
    "pip install fancyimpute\n"
   ]
  },
  {
   "cell_type": "code",
   "execution_count": 102,
   "metadata": {},
   "outputs": [
    {
     "name": "stdout",
     "output_type": "stream",
     "text": [
      "   survived  pclass     sex   age  sibsp  parch     fare embarked  class  \\\n",
      "0         0       3    male  22.0      1      0   7.2500        S  Third   \n",
      "1         1       1  female  38.0      1      0  71.2833        C  First   \n",
      "2         1       3  female  26.0      0      0   7.9250        S  Third   \n",
      "3         1       1  female  35.0      1      0  53.1000        S  First   \n",
      "4         0       3    male  35.0      0      0   8.0500        S  Third   \n",
      "\n",
      "     who  adult_male deck  embark_town alive  alone  \n",
      "0    man        True  NaN  Southampton    no  False  \n",
      "1  woman       False    C    Cherbourg   yes  False  \n",
      "2  woman       False  NaN  Southampton   yes   True  \n",
      "3  woman       False    C  Southampton   yes  False  \n",
      "4    man        True  NaN  Southampton    no   True  \n"
     ]
    }
   ],
   "source": [
    "import pandas as pd\n",
    "from fancyimpute import IterativeImputer\n",
    "\n",
    "# Load the Titanic dataset\n",
    "titanic_data = sns.load_dataset(\"titanic\")\n",
    "\n",
    "# Create an instance of IterativeImputer\n",
    "imputer = IterativeImputer(max_iter=10, random_state=0)\n",
    "\n",
    "# Perform multivariate imputation on the 'Age' column\n",
    "titanic_data_imputed = titanic_data.copy()  # Create a copy to keep the original dataset unchanged\n",
    "titanic_data_imputed['age'] = imputer.fit_transform(titanic_data[['age']])\n",
    "\n",
    "# Print the imputed dataset\n",
    "print(titanic_data_imputed.head())\n"
   ]
  },
  {
   "cell_type": "code",
   "execution_count": null,
   "metadata": {},
   "outputs": [],
   "source": []
  },
  {
   "cell_type": "code",
   "execution_count": null,
   "metadata": {},
   "outputs": [],
   "source": []
  },
  {
   "cell_type": "code",
   "execution_count": null,
   "metadata": {},
   "outputs": [],
   "source": []
  },
  {
   "cell_type": "markdown",
   "metadata": {},
   "source": []
  },
  {
   "cell_type": "markdown",
   "metadata": {},
   "source": []
  }
 ],
 "metadata": {
  "kernelspec": {
   "display_name": "Python 3",
   "language": "python",
   "name": "python3"
  },
  "language_info": {
   "codemirror_mode": {
    "name": "ipython",
    "version": 3
   },
   "file_extension": ".py",
   "mimetype": "text/x-python",
   "name": "python",
   "nbconvert_exporter": "python",
   "pygments_lexer": "ipython3",
   "version": "3.11.4"
  },
  "orig_nbformat": 4
 },
 "nbformat": 4,
 "nbformat_minor": 2
}
